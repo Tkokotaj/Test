{
  "nbformat": 4,
  "nbformat_minor": 0,
  "metadata": {
    "kernelspec": {
      "display_name": "Python 3",
      "language": "python",
      "name": "python3"
    },
    "language_info": {
      "codemirror_mode": {
        "name": "ipython",
        "version": 3
      },
      "file_extension": ".py",
      "mimetype": "text/x-python",
      "name": "python",
      "nbconvert_exporter": "python",
      "pygments_lexer": "ipython3",
      "version": "3.5.2"
    },
    "colab": {
      "name": "hw3.ipynb",
      "provenance": [],
      "collapsed_sections": []
    }
  },
  "cells": [
    {
      "cell_type": "markdown",
      "metadata": {
        "id": "9lAsyeOwFnoX"
      },
      "source": [
        "# CSCE 623 Homework Assignment 3\n"
      ]
    },
    {
      "cell_type": "markdown",
      "metadata": {
        "id": "46d-KBtJJxN1"
      },
      "source": [
        "### Student Name:  <font color=\"blue\">Timothy Kokotajlo</font>"
      ]
    },
    {
      "cell_type": "markdown",
      "metadata": {
        "id": "Yna07rL4Jz43"
      },
      "source": [
        "### Date: <font color=\"blue\">5/4/2021</font>"
      ]
    },
    {
      "cell_type": "markdown",
      "metadata": {
        "id": "P685WkBlKB2x"
      },
      "source": [
        "## Disclosures\n",
        "\n",
        "*   None"
      ]
    },
    {
      "cell_type": "markdown",
      "metadata": {
        "id": "zXzR22oMKEtf"
      },
      "source": [
        "## Overview\n",
        "\n",
        "In this homework assignment, you will explore various methods of cross-validation. \n",
        "\n",
        "We will introduce you to a generated dataset that represents a polynomial function with gaussian noise. You will attempt to fit various models of increasing flexibility (polynomial order) to the data. You will analyze and evaluate each models using cross-validation to (1) determine the model that best fits the data, and (2) predict the performance of your model on new data.\n",
        "\n",
        "You will then compare the model you developed using machine learning techniques to the model indicated by statistical analysis.\n",
        "\n",
        "This assignment includes both written and programming components."
      ]
    },
    {
      "cell_type": "markdown",
      "metadata": {
        "id": "qbbSOVyq7lYk"
      },
      "source": [
        "### Written Components\n",
        "Full effort answers to written components should include not only the answer to the question, but they should also include supporting information. You should provide justification or supporting information even if the question only asks for a single number or short answer."
      ]
    },
    {
      "cell_type": "markdown",
      "metadata": {
        "id": "a-5OaiNO7m6F"
      },
      "source": [
        "### Programming Components\n",
        "Use Python to perform any manipulations you make to provided datasets, all calculations and mathematical transformations, and to generate graphs, figures, or other support to explain how you arrived at your written answers."
      ]
    },
    {
      "cell_type": "markdown",
      "metadata": {
        "id": "a0Zjdxie-jWf"
      },
      "source": [
        "### Helpful Tips\n",
        "\n",
        "You might find these Python packages/imports helpful\n",
        "\n",
        "``` python\n",
        "import numpy as np\n",
        "import pandas as pd\n",
        "import matplotlib.pyplot as plt\n",
        "import math\n",
        "import seaborn as sns\n",
        "\n",
        "from sklearn.model_selection import KFold\n",
        "from sklearn.model_selection import ShuffleSplit\n",
        "from sklearn.model_selection import LeaveOneOut\n",
        "from sklearn.model_selection import cross_val_score\n",
        "\n",
        "from IPython.display import Markdown as md\n",
        "\n",
        "from sklearn.linear_model import LinearRegression\n",
        "\n",
        "from sklearn.metrics import mean_squared_error\n",
        "\n",
        "%matplotlib inline\n",
        "```"
      ]
    },
    {
      "cell_type": "markdown",
      "metadata": {
        "id": "kS60EAw9MiU2"
      },
      "source": [
        "## Cross-fold Validation"
      ]
    },
    {
      "cell_type": "markdown",
      "metadata": {
        "id": "A5yhrcvjN0AD"
      },
      "source": [
        "### STEP 0: installs & configuration"
      ]
    },
    {
      "cell_type": "markdown",
      "metadata": {
        "id": "pFdGmA3GN3_q"
      },
      "source": [
        "Install any packages you need for your notebook. If using the Google Colab environment, you will not need to install any additional packages."
      ]
    },
    {
      "cell_type": "code",
      "metadata": {
        "id": "AqoMuH_YOJ3e"
      },
      "source": [
        "\"\"\"\n",
        "CSCE 623 HW3. Cross-fold Validation\n",
        "\"\"\"\n",
        "DEBUG = True\n",
        "\n",
        "# install packages, set configuration, as needed\n"
      ],
      "execution_count": 69,
      "outputs": []
    },
    {
      "cell_type": "markdown",
      "metadata": {
        "id": "1HI9buTTOPHH"
      },
      "source": [
        "Import any packages you need for your notebook"
      ]
    },
    {
      "cell_type": "code",
      "metadata": {
        "id": "2yVNfQdnY7BW"
      },
      "source": [
        "# import pacakages for your notebook\n",
        "import numpy as np\n",
        "import pandas as pd\n",
        "import matplotlib.pyplot as plt\n",
        "import math\n",
        "import seaborn as sns\n",
        " \n",
        "from sklearn.model_selection import KFold\n",
        "from sklearn.model_selection import ShuffleSplit\n",
        "from sklearn.model_selection import LeaveOneOut\n",
        "from sklearn.model_selection import cross_val_score\n",
        " \n",
        "from IPython.display import Markdown as md\n",
        " \n",
        "from sklearn.linear_model import LinearRegression\n",
        "from sklearn.linear_model import LogisticRegression\n",
        " \n",
        "from sklearn.metrics import mean_squared_error\n",
        " \n",
        "%matplotlib inline\n",
        "\n",
        "%matplotlib inline"
      ],
      "execution_count": 136,
      "outputs": []
    },
    {
      "cell_type": "code",
      "metadata": {
        "id": "4pD5Jejhp70q",
        "tags": [
          "remove_cell"
        ]
      },
      "source": [
        "# instructor provided code\n",
        "plot_x_min = -2.\n",
        "plot_x_max = 2.\n",
        "\n",
        "def generate_data(seed = 1, quantity = 200, test_data = False):\n",
        "    np.random.seed(seed)\n",
        "    x = np.random.uniform(low=plot_x_min,high=plot_x_max,size=quantity)\n",
        "    order = np.random.randint(3, 4)\n",
        "    betas = np.random.uniform(-2, 2, order)\n",
        "\n",
        "    y = sum((beta * x ** (idx+1) for idx, beta in enumerate(betas)))\n",
        "\n",
        "    beta0 = np.random.uniform(np.min(y), np.max(y))\n",
        "\n",
        "    noise = np.random.normal(size=quantity, scale = (np.max(y) - np.min(y)) / 8)\n",
        "    if test_data: # get new sample if we're generating test data\n",
        "        noise = np.random.normal(size=quantity, scale = (np.max(y) - np.min(y)) / 8)\n",
        "\n",
        "    y += noise + beta0\n",
        "\n",
        "    df = pd.DataFrame({'x': x, 'y': y})\n",
        "    globals()['global_betas'] = betas\n",
        "    globals()['global_beta0'] = beta0\n",
        "\n",
        "    return(df) "
      ],
      "execution_count": 186,
      "outputs": []
    },
    {
      "cell_type": "markdown",
      "metadata": {
        "id": "xRPFmS9PJVGI"
      },
      "source": [
        "### STEP A: provided functions"
      ]
    },
    {
      "cell_type": "code",
      "metadata": {
        "id": "-feg5ea9I_sE"
      },
      "source": [
        "# instructor provided functions\n",
        "\"\"\"\n",
        "returns a LaTeX style string representing a function defined by beta0 and betas\n",
        "\"\"\"\n",
        "def create_model_string(beta0, betas):\n",
        "    model_function = f'$f(x) = {beta0:.2f}'\n",
        "    for idx, beta in enumerate(betas):\n",
        "        model_function += f' + {beta:.2f}x^{idx+1}'\n",
        "    model_function += '$'\n",
        "    return model_function\n",
        "\n",
        "\"\"\"\n",
        "adds a plot of a function to the current plot\n",
        "\"\"\"\n",
        "def plot_function(x_min, x_max, beta0, betas, resolution = .1, style = None, label = ''):\n",
        "    plot_x = np.arange(x_min - .2 * abs(x_min), x_max + .2 * abs(x_max), resolution)\n",
        "    plot_y = sum((beta * plot_x ** (idx+1) for idx, beta in enumerate(betas))) + beta0\n",
        "    if style:\n",
        "        plt.plot(plot_x, plot_y, style, label=label)\n",
        "    else:\n",
        "        plt.plot(plot_x, plot_y, label=label)\n",
        "\n"
      ],
      "execution_count": 187,
      "outputs": []
    },
    {
      "cell_type": "markdown",
      "metadata": {
        "id": "vnE14vxA2VvU"
      },
      "source": [
        "### STEP 1: scikit-learn Functions\n",
        "\n",
        "Review the scikit-learn documentation for the following functions and answer the questions that follow:\n",
        "\n",
        "- [User Guide for cross validation iterators](https://scikit-learn.org/stable/modules/cross_validation.html#cross-validation-iterators)\n",
        "  - Identically Distributed Data\n",
        "    - [KFold](https://scikit-learn.org/stable/modules/generated/sklearn.model_selection.KFold.html#sklearn.model_selection.KFold)\n",
        "    - [RepeatedKFold](https://scikit-learn.org/stable/modules/generated/sklearn.model_selection.RepeatedKFold.html#sklearn.model_selection.RepeatedKFold)\n",
        "    - [LeaveOneOut](https://scikit-learn.org/stable/modules/generated/sklearn.model_selection.LeaveOneOut.html)\n",
        "    - [LeavePOut](https://scikit-learn.org/stable/modules/generated/sklearn.model_selection.LeavePOut.html#sklearn.model_selection.LeavePOut)\n",
        "    - [ShuffleSplit](https://scikit-learn.org/stable/modules/generated/sklearn.model_selection.ShuffleSplit.html#sklearn.model_selection.ShuffleSplit)\n",
        "  - Stratification with Class Data\n",
        "    - [StratifiedKFold](https://scikit-learn.org/stable/modules/generated/sklearn.model_selection.StratifiedKFold.html#sklearn.model_selection.StratifiedKFold)\n",
        "    - [RepeatedStratifiedKFold](https://scikit-learn.org/stable/modules/generated/sklearn.model_selection.RepeatedStratifiedKFold.html#sklearn.model_selection.RepeatedStratifiedKFold)\n",
        "    - [StratifiedShuffleSplit](https://scikit-learn.org/stable/modules/generated/sklearn.model_selection.StratifiedShuffleSplit.html#sklearn.model_selection.StratifiedShuffleSplit)\n",
        "  - Grouped Data\n",
        "    - [GroupKFold](https://scikit-learn.org/stable/modules/generated/sklearn.model_selection.GroupKFold.html#sklearn.model_selection.GroupKFold)\n",
        "    - [LeaveOneGroupOut](https://scikit-learn.org/stable/modules/generated/sklearn.model_selection.GroupKFold.html#sklearn.model_selection.GroupKFold)\n",
        "    - [LeavePGroupsOut](https://scikit-learn.org/stable/modules/generated/sklearn.model_selection.LeavePGroupsOut.html#sklearn.model_selection.LeavePGroupsOut)\n",
        "    - [GroupShuffleSplit](https://scikit-learn.org/stable/modules/generated/sklearn.model_selection.GroupShuffleSplit.html#sklearn.model_selection.GroupShuffleSplit)\n",
        "\n",
        "\n",
        "\n",
        "### Discussion\n",
        "\n",
        "- Using one of the functions listed above, what is the most straight-forward way to implement \"The Validation Set\" approach discussed in _ISLR_, 5.1.1 on regression data? What function would you use? What argument values would you use?\n",
        "\n",
        "  <font color=green class=\"student_answer\">Student Answer</font>\n",
        "\n",
        "- What function and arguments would you use to implement LOOCV as discussed in _ISLR_ 5.1.2?\n",
        "\n",
        "  <font color=green class=\"student_answer\">Student Answer</font>\n",
        "\n",
        "- How would you implement k-fold Cross-Validation as discussedd in _ISLR_ 5.1.3? Assuming $k = 10$, what argument values would you use?\n",
        "\n",
        "  <font color=green class=\"student_answer\">Student Answer</font>\n",
        "\n",
        "- If the problem is a classification problem how would you ensure that each _k-fold_ had a balance of classes represented in the data? What function and argument values would you use assuming $k = 10$?\n",
        "\n",
        "  <font color=green class=\"student_answer\">Student Answer</font>\n",
        "\n",
        "- Suppose you wanted to train multiple models using k-fold cross-validation each with $k=10$ and compare their performance. What arguments would you use?\n",
        "\n",
        "  <font color=green class=\"student_answer\">Student Answer</font>\n",
        "\n"
      ]
    },
    {
      "cell_type": "code",
      "metadata": {
        "id": "4Vi2UU9HDUVR"
      },
      "source": [
        "STEP_1_COMPLETE = False"
      ],
      "execution_count": 73,
      "outputs": []
    },
    {
      "cell_type": "markdown",
      "metadata": {
        "id": "Z4Lwf_jiXqXK"
      },
      "source": [
        "### Data Analysis\n",
        "\n",
        "In steps 1-2, you'll load and conduct an analysis of a generated dataset."
      ]
    },
    {
      "cell_type": "markdown",
      "metadata": {
        "id": "EwKDAUtjFnof"
      },
      "source": [
        "#### STEP 2: load dataset"
      ]
    },
    {
      "cell_type": "markdown",
      "metadata": {
        "id": "G7c6P84MOuJB"
      },
      "source": [
        "For this assignment, you will use a generated dataset. You have been provided a function that will generate a dataset. You need only provide a random seed value to generate a unique dataset.\n",
        "\n",
        "You'll initialize a dataset unique to yourself by choosing a random seed value. You can initialize the seed with the last 4 digits of your phone number, your street address, or some other number.\n",
        "\n",
        "You'll then generate the dataset and store it in a Dataframe named df:\n",
        "```\n",
        "df = generate_data(seed)\n",
        "```\n",
        "\n",
        "IMPORTANT: After choosing a seed value, you will not want to change this value, as changing the seed will result in your dataset changing. This will invalidate any analysis that you've completed. \n"
      ]
    },
    {
      "cell_type": "code",
      "metadata": {
        "scrolled": true,
        "id": "_tQNDIVeFnog",
        "colab": {
          "base_uri": "https://localhost:8080/"
        },
        "outputId": "c577f21c-e560-4cd4-9979-465bf841fabf"
      },
      "source": [
        "#STEP 2\n",
        "\n",
        "#STUDENT CODE - insert code to load a generated dataset using pandas\n",
        "# store your data in a dataframe called 'df'\n",
        "#--------------------------------------------- \n",
        "\n",
        "df = generate_data(12581337)\n",
        "#display(df)\n",
        "#---------------------------------------------    \n",
        "\n",
        "STEP_2_COMPLETE = True"
      ],
      "execution_count": 188,
      "outputs": [
        {
          "output_type": "stream",
          "text": [
            "-19.035154639972237 [ 0.08784438 -1.41874335 -1.91724741]\n"
          ],
          "name": "stdout"
        }
      ]
    },
    {
      "cell_type": "markdown",
      "metadata": {
        "id": "TawtbcrZBEuH"
      },
      "source": [
        "#### STEP 3: plot and analyze data\n",
        "\n",
        "Using a similar approach that you employed in homework assignments 1 and 2, plot and analyze the dataset.\n"
      ]
    },
    {
      "cell_type": "code",
      "metadata": {
        "id": "pFCTBu8kCH38",
        "colab": {
          "base_uri": "https://localhost:8080/",
          "height": 1000
        },
        "outputId": "9af8c578-f0c7-4c99-99a8-b4040fe9568b"
      },
      "source": [
        "#STEP 3\n",
        "\n",
        "#STUDENT CODE - insert code to plot and use pandas analysis tools on the dataset\n",
        "#---------------------------------------------\n",
        "#graph it\n",
        "def plotDF(dfx):\n",
        "\n",
        "    class_Colors = {0:'red',1:'blue'}\n",
        "    plt.scatter(dfx['x'], dfx['y'])\n",
        "    plt.xlabel(r'$X1$')\n",
        "    plt.ylabel(r'$X2$')\n",
        "    plt.title(\"dataset X\") # have no idea how to do this programattically without some janky duct-tape solutions\n",
        "\n",
        "    plt.legend([\"points\"])\n",
        "    plt.grid(True)\n",
        "    plt.show()\n",
        "plotDF(df)\n",
        "\n",
        "#statistics \n",
        "\n",
        "display(df.info)\n",
        "display(df.describe())\n",
        "#pairplot\n",
        "\n",
        "sns.histplot(df)\n",
        "#no clue what this is for, but it looks neat so I printed it\n",
        "\n",
        "df.hist()\n",
        "#histogram\n",
        "#--------------------------------------------- \n",
        "STEP_3_COMPLETE = True\n"
      ],
      "execution_count": 183,
      "outputs": [
        {
          "output_type": "display_data",
          "data": {
            "image/png": "[encoded data removed]",
            "text/plain": [
              "<Figure size 432x288 with 1 Axes>"
            ]
          },
          "metadata": {
            "tags": [],
            "needs_background": "light"
          }
        },
        {
          "output_type": "display_data",
          "data": {
            "text/plain": [
              "<bound method DataFrame.info of             x          y\n",
              "0   -0.344394 -24.773998\n",
              "1   -0.893748 -14.708238\n",
              "2    1.382981 -30.969110\n",
              "3    0.667459 -20.430623\n",
              "4    0.697599 -23.322350\n",
              "..        ...        ...\n",
              "195  1.036188 -21.122926\n",
              "196  1.139144 -23.397085\n",
              "197 -0.212719 -20.843376\n",
              "198 -0.268923 -18.937161\n",
              "199 -0.742415 -21.752534\n",
              "\n",
              "[200 rows x 2 columns]>"
            ]
          },
          "metadata": {
            "tags": []
          }
        },
        {
          "output_type": "display_data",
          "data": {
            "text/html": [
              "<div>\n",
              "<style scoped>\n",
              "    .dataframe tbody tr th:only-of-type {\n",
              "        vertical-align: middle;\n",
              "    }\n",
              "\n",
              "    .dataframe tbody tr th {\n",
              "        vertical-align: top;\n",
              "    }\n",
              "\n",
              "    .dataframe thead th {\n",
              "        text-align: right;\n",
              "    }\n",
              "</style>\n",
              "<table border=\"1\" class=\"dataframe\">\n",
              "  <thead>\n",
              "    <tr style=\"text-align: right;\">\n",
              "      <th></th>\n",
              "      <th>x</th>\n",
              "      <th>y</th>\n",
              "    </tr>\n",
              "  </thead>\n",
              "  <tbody>\n",
              "    <tr>\n",
              "      <th>count</th>\n",
              "      <td>200.000000</td>\n",
              "      <td>200.000000</td>\n",
              "    </tr>\n",
              "    <tr>\n",
              "      <th>mean</th>\n",
              "      <td>-0.001470</td>\n",
              "      <td>-21.481075</td>\n",
              "    </tr>\n",
              "    <tr>\n",
              "      <th>std</th>\n",
              "      <td>1.158549</td>\n",
              "      <td>6.546760</td>\n",
              "    </tr>\n",
              "    <tr>\n",
              "      <th>min</th>\n",
              "      <td>-1.979867</td>\n",
              "      <td>-45.116128</td>\n",
              "    </tr>\n",
              "    <tr>\n",
              "      <th>25%</th>\n",
              "      <td>-0.977465</td>\n",
              "      <td>-24.678721</td>\n",
              "    </tr>\n",
              "    <tr>\n",
              "      <th>50%</th>\n",
              "      <td>0.018032</td>\n",
              "      <td>-20.321100</td>\n",
              "    </tr>\n",
              "    <tr>\n",
              "      <th>75%</th>\n",
              "      <td>0.988583</td>\n",
              "      <td>-17.430757</td>\n",
              "    </tr>\n",
              "    <tr>\n",
              "      <th>max</th>\n",
              "      <td>1.996272</td>\n",
              "      <td>-5.871473</td>\n",
              "    </tr>\n",
              "  </tbody>\n",
              "</table>\n",
              "</div>"
            ],
            "text/plain": [
              "                x           y\n",
              "count  200.000000  200.000000\n",
              "mean    -0.001470  -21.481075\n",
              "std      1.158549    6.546760\n",
              "min     -1.979867  -45.116128\n",
              "25%     -0.977465  -24.678721\n",
              "50%      0.018032  -20.321100\n",
              "75%      0.988583  -17.430757\n",
              "max      1.996272   -5.871473"
            ]
          },
          "metadata": {
            "tags": []
          }
        },
        {
          "output_type": "display_data",
          "data": {
            "image/png": "[encoded data removed]",
            "text/plain": [
              "<Figure size 432x288 with 1 Axes>"
            ]
          },
          "metadata": {
            "tags": [],
            "needs_background": "light"
          }
        },
        {
          "output_type": "display_data",
          "data": {
            "image/png": "[encoded data removed]",
            "text/plain": [
              "<Figure size 432x288 with 2 Axes>"
            ]
          },
          "metadata": {
            "tags": [],
            "needs_background": "light"
          }
        }
      ]
    },
    {
      "cell_type": "markdown",
      "metadata": {
        "id": "3rDHXs2IC2Bx"
      },
      "source": [
        "Discuss the dataset, being sure to answer such questions as:\n",
        "- How many observations are in the dataset?\n",
        "- How many features?\n",
        "- What is the nature of the target (regression or classification)?\n",
        "- What kind of relationship will best fit the data? Linear? Polynomial? If polynomial, what order?\n",
        "  \n",
        "  <font color=green class=\"student_answer\">Student Discussion</font>\n",
        "\n"
      ]
    },
    {
      "cell_type": "code",
      "metadata": {
        "id": "YxcxNljkDYRn"
      },
      "source": [
        "#200 observations\n",
        "#2 features\n",
        "#it looks like a regression problem\n",
        "#looks like a polynomial relationship, probably 3rd order, maybe 5th? \n",
        "#odd order, at least, because one side goes up and the other goes down. \n",
        "\n",
        "STEP_3_COMPLETE = True"
      ],
      "execution_count": 76,
      "outputs": []
    },
    {
      "cell_type": "markdown",
      "metadata": {
        "id": "GEjQYr2oB4pj"
      },
      "source": [
        "#### STEP 4: initial hypothesis\n",
        "\n",
        "Develop an initial hypothesis about the best model that will fit the data and overlay it on a scatterplot of the dataset. Be sure to use a model informed by your analysis above. I've provided an example below. While my example is quadratic, your model might not necessarily be quadratic. Feel free to use either of the functions provided in SETUP A above.\n",
        "\n",
        "![initial guess](https://raw.githubusercontent.com/afit-csce623-master/template-hw3/main/images/plot_guess_overlay2.png)"
      ]
    },
    {
      "cell_type": "code",
      "metadata": {
        "id": "9zBQSfynCYsN",
        "colab": {
          "base_uri": "https://localhost:8080/",
          "height": 315
        },
        "outputId": "05c8aabd-7188-43ec-aebb-96436a8f2902"
      },
      "source": [
        "#STEP 4\n",
        "\n",
        "#STUDENT CODE - insert code to overlay your initial hypothesis on a scatter plot of the dataset\n",
        "#---------------------------------------------\n",
        "betas = [0,-1,-2]\n",
        "display(create_model_string(0,betas))\n",
        "\n",
        "\n",
        "plot_function(-1.5,1.8,-20,betas, style='red')\n",
        "plotDF(df)\n",
        "\n",
        "#---------------------------------------------\n",
        "\n",
        "STEP_4_COMPLETE = False"
      ],
      "execution_count": 189,
      "outputs": [
        {
          "output_type": "display_data",
          "data": {
            "application/vnd.google.colaboratory.intrinsic+json": {
              "type": "string"
            },
            "text/plain": [
              "'$f(x) = 0.00 + 0.00x^1 + -1.00x^2 + -2.00x^3$'"
            ]
          },
          "metadata": {
            "tags": []
          }
        },
        {
          "output_type": "display_data",
          "data": {
            "image/png": "[encoded data removed]",
            "text/plain": [
              "<Figure size 432x288 with 1 Axes>"
            ]
          },
          "metadata": {
            "tags": [],
            "needs_background": "light"
          }
        }
      ]
    },
    {
      "cell_type": "markdown",
      "metadata": {
        "id": "80j7ZKyoDs_c"
      },
      "source": [
        "### Feature Engineering\n",
        "\n",
        "In this section, you'll implement code to create a new dataframe with engineered features."
      ]
    },
    {
      "cell_type": "markdown",
      "metadata": {
        "id": "RHKjj6oeEG4c"
      },
      "source": [
        "#### STEP 5: feature engineering\n",
        "\n",
        "`df` contains a feature and a target. You will create a function that will generate a new feature dataframe that will generate a new dataframe with $p$ columns, where column $p$ will contain the the values of $x^p$.\n",
        "\n",
        "Your function will have the signature `poly_df(x, p)` where `x` is a series of feature values and `p` is the highest order polynomial desired. The function will return a dataframe where the first column contains the original feature values ($x^1$), the second column contains the quadratic values ($x^2$), the third column has cubic values ($x^3$), and so forth. Provide header values of `x^1`, `x^2`, `x^3`, etc.\n",
        "\n",
        "This is an example of a displayed dataframe returned after calling `poly_df(df.x, 6)` (specific values will differ).\n",
        "\n",
        "![polynomial dataframe](https://raw.githubusercontent.com/afit-csce623-master/template-hw3/main/images/poly_dataframe.png)"
      ]
    },
    {
      "cell_type": "code",
      "metadata": {
        "id": "XOGdRpJ3IEWM"
      },
      "source": [
        "#STEP 5\n",
        "\n",
        "#STUDENT CODE - insert code to implement poly_df\n",
        "#---------------------------------------------\n",
        "\n",
        "def poly_df(x, p):\n",
        "  #create new df, set equal to x\n",
        "  headers = []\n",
        "  #for a in range(p):\n",
        "    #headers.append('x'+str(a))\n",
        "\n",
        "  new_df = pd.DataFrame(columns=headers)\n",
        "  for item in range(p):\n",
        "    headers.append('x'+str(item+1))\n",
        "    new_df[headers[item]] = x**(item+1)\n",
        "  return new_df \n",
        "#display(df.x)\n",
        "#display(poly_df(df.x ,6))\n",
        "#---------------------------------------------\n",
        "\n",
        "STEP_5_COMPLETE = True"
      ],
      "execution_count": 184,
      "outputs": []
    },
    {
      "cell_type": "markdown",
      "metadata": {
        "id": "s4taf9KE7fv-"
      },
      "source": [
        "\t  x^1\t      x^2\t      x^3\t      x^4\t      x^5\t      x^6\n",
        "0\t  1.347776\t1.816501\t2.448238\t3.299678\t4.447228\t5.993869\n",
        "\n",
        "1\t  1.880943\t3.537948\t6.654680\t12.517077\t23.543913\t44.284768\n",
        "\n",
        "2\t  -0.211385\t0.044684\t-0.009445\t0.001997\t-0.000422\t0.000089\n",
        "\n",
        "3\t  -0.861676\t0.742485\t-0.639782\t0.551285\t-0.475029\t0.409321\n",
        "\n",
        "4\t  1.084866\t1.176935\t1.276817\t1.385176\t1.502731\t1.630262\n",
        "...\t...\t...\t...\t...\t...\t...\n",
        "\n",
        "195  \t-1.506401\t2.269245\t-3.418394\t5.149474\t-7.757174\t11.685419\n",
        "196\t  -0.506053\t0.256090\t-0.129595\t0.065582\t-0.033188\t0.016795\n",
        "197\t  -1.751858\t3.069006\t-5.376463\t9.418799\t-16.500397\t28.906350\n",
        "198\t  -1.923298\t3.699077\t-7.114429\t13.683171\t-26.316822\t50.615103\n",
        "199\t  1.035725\t1.072727\t1.111051\t1.150744\t1.191855\t1.234434\n",
        "200 rows × 6 columns"
      ]
    },
    {
      "cell_type": "markdown",
      "metadata": {
        "id": "81Ntq_t1fi2C"
      },
      "source": [
        "### 3 Ways to Cross Validate\n",
        "\n",
        "In the following section, we will explore the three methods of cross-validation discussed in the _ISLR_ text:\n",
        "\n",
        "- Validation Set\n",
        "- Leave One Out\n",
        "- K-Fold\n",
        "\n",
        "For each method, we'll execute three steps:\n",
        "\n",
        "1. Write a function to calculate the root mean squared error using the intended cross-validation method.\n",
        "2. Generate a DataFrame of root mean squared error values using the cross-validation technique for models of increasing flexibility. Specifically, you'll evaluate 8 models, polynomial models, ordered 1 through 8.\n",
        "3. Plot the spaghetti chart of the root mean squared error values\n",
        "\n"
      ]
    },
    {
      "cell_type": "markdown",
      "metadata": {
        "id": "rak97xTA3pah"
      },
      "source": [
        "#### SETUP B: constants for cv\n",
        "\n",
        "Here are constants available for your use in STEPS 6-14"
      ]
    },
    {
      "cell_type": "code",
      "metadata": {
        "id": "fvAFdvhD1xI-"
      },
      "source": [
        "# instructor provided constants:\n",
        "\n",
        "# feel free to use throughout the following STEPs\n",
        "\n",
        "TRIALS = 10\n",
        "MAX_ORDER = 8\n",
        "COLUMNS = ['Trial 1', 'Trial 2', 'Trial 3', 'Trial 4', 'Trial 5', 'Trial 6', 'Trial 7', 'Trial 8', 'Trial 9', 'Trial 10']\n",
        "INDICES = ['1st', '2nd', '3rd', '4th', '5th', '6th', '7th', '8th']\n"
      ],
      "execution_count": 79,
      "outputs": []
    },
    {
      "cell_type": "markdown",
      "metadata": {
        "id": "PGvmAaG3DiE-"
      },
      "source": [
        "#### Validation Set Approach\n",
        "\n",
        "In this section, you will evaluate models of increasing flexibility (up to 8th order polynomial) fit to the generated data."
      ]
    },
    {
      "cell_type": "markdown",
      "metadata": {
        "id": "mJ8SnNJIKycu"
      },
      "source": [
        "##### STEP 6: validation set rmse\n",
        "\n",
        "In this step, you'll create `val_set_mse(X, y, random_state)` which returns the root mean squared error of a model fit to a training set and evaluated on a validation set.\n",
        "\n",
        "- `X` is a DataFrame of feature inputs\n",
        "- `y` is a Series of targets\n",
        "- return a scalar value representing the root mean squared error\n",
        "\n",
        "Hints:\n",
        "- The instructor's solution to this function uses only 4 lines of code--no Python tricks. If you're using more than 6-8 lines of code, you may not be doing something right\n",
        "- You'll use the scikit-learn [cross_val_score](https://scikit-learn.org/stable/modules/generated/sklearn.model_selection.cross_val_score.html) function to calculate the root mean squared error. The use of this function may be a bit non-standard for the typical programmer. While the `X` and `y` arguments are pretty straight-forward, three arguments in particular may be confounding:\n",
        "  - `estimator` is the model type. Usually, you'll set this in advance and then pass in a reference to the model. For example, if you wanted to use a [LogisticRegression](https://scikit-learn.org/stable/modules/generated/sklearn.linear_model.LogisticRegression.html) model using the `liblinear` solver, you might do the following:\n",
        "    ```\n",
        "    model = LogisticRegression(solver='liblinear')\n",
        "    ```\n",
        "    and then you would pass in `model` as the `cross_val_score` estimator. There is an additional example on the bottom of page 73 in _HOML_ that uses a DecisionTreeRegressor defined near the top of the page.\n",
        "  - `cv` is an integer or a cross-validation generator. Unless you're doing k-fold validation, you'll need to provide a generator. The generators are those iterators you reviewed in STEP 1. For example, if you wanted to train and validate on possible training/validaton sets when you remove 12 samples from the dataset, you might do the following:\n",
        "    ```\n",
        "    lpo = LeavePOut(p=12)\n",
        "    ```\n",
        "    and pass in `lpo` as the `cv` generator\n",
        "  - `scoring` is a scoring methodology. You can create your own scoring function, but often, using a [predefined scoring method](https://scikit-learn.org/stable/modules/model_evaluation.html#scoring-parameter) is suitable. Note that all scoring methods follow the \"greater is better\" principal. Therefore, many of the regression scores are negated. To report the actual score of a negated value, you'll need to take the absolute value or negation of the score. See also pages 73-74 of _HOML_. Note that _HOML_ collects the root mean squared error from the `cross_val_score` method and then take the square root of the negation to calculate RMSE. Observe that the negated RMSE metric is available directly as a scoring methodology, so the square root step isn't be necessary.\n",
        "- An algorithm for completing this task:\n",
        "  - Identify the correct cross validation iterator for this problem, and create the generator with all appropriate parameters, assigning it to a variable. NOTES (these are things to consider after you have basic functionality):\n",
        "    - For the sake of repeatability, you'll want to set the `random_state` value. However, if you set `random_state` to a number, you'll get the exact same train/validation partition every time you call the function. Instead, use a seeded [RandomState](https://numpy.org/doc/1.16/reference/generated/numpy.random.RandomState.html).\n",
        "    - Be sure that you're splitting the dataset in half for the train and validation sets\n",
        "  - Identify the correct model type for this problem, and create the model with all appropriate parameters, assigning it to a variable\n",
        "  - Call cross_val_score, selecting the appropriate scoring metric and assigning the result to a variable\n",
        "  - Correct for negation and return the score"
      ]
    },
    {
      "cell_type": "code",
      "metadata": {
        "id": "S7wrEbTiYq9K",
        "colab": {
          "base_uri": "https://localhost:8080/",
          "height": 34
        },
        "outputId": "65de0fa9-e4b7-46ca-945b-d12e09377c4e"
      },
      "source": [
        "#STEP 6\n",
        "\n",
        "#STUDENT CODE - insert code to implement val_set_mse(X, y, random_state)\n",
        "#---------------------------------------------\n",
        "\n",
        "\n",
        "#lpo = scikitlearn.LeavePOut(p=12)\n",
        "#from sklearn.model_selection import KFold\n",
        "#from sklearn.model_selection import ShuffleSplit\n",
        "#from sklearn.model_selection import LeaveOneOut\n",
        "#from sklearn.model_selection import cross_val_score\n",
        "\n",
        "#lpo = KFold(12, random_state=1337)\n",
        "#lpo = ShuffleSplit(random_state=1337)\n",
        "#lpo = LeaveOneOut(random_state=1337)\n",
        "#display(df.y)\n",
        "model = LinearRegression()#.fit(df.x, df.y)\n",
        "random_state = np.random.RandomState(1337)\n",
        "def val_set_mse(X, y, random_state):\n",
        "  split = ShuffleSplit(n_splits=1, train_size=0.5, random_state=random_state)\n",
        "  scores = cross_val_score(model, X, y, cv=split, scoring = 'neg_root_mean_squared_error') \n",
        "  #cv can be None (5 fold cross val), an int (Kfold), CV splitter, or Iterable yielding splits as array of indices\n",
        "  \n",
        "  return abs(np.mean(scores))\n",
        "\n",
        "\n",
        "display(val_set_mse(df[['x']], df.y,random_state))\n",
        "\n",
        "STEP_6_COMPLETE = True"
      ],
      "execution_count": 216,
      "outputs": [
        {
          "output_type": "display_data",
          "data": {
            "text/plain": [
              "4.388558664192846"
            ]
          },
          "metadata": {
            "tags": []
          }
        }
      ]
    },
    {
      "cell_type": "markdown",
      "metadata": {
        "id": "KEgG-JYdf9tm"
      },
      "source": [
        "##### STEP 7: dataframe of val set rmse\n",
        "\n",
        "In this step, you'll generate a DataFrame of RMSE values for 10 trials of 8 models using the Validation Set approach. Each model will represent an increasing order polynomial feature set. For example, the first value in the DataFrame for Trial 1 will be the the RMSE for a 1st order $(x^1)$ model, whereas the eighth value will be the MSE for an 8th order $(x^1, x^2, ... , x^8)$ model. The resulting DataFrame might look something like this:\n",
        "\n",
        "```\n",
        "    Trial 1   Trial 2   Trial 3   Trial 4   Trial 5   Trial 6   Trial 7   Trial 8   Trial 9  Trial 10 \n",
        "1  1.195520  1.307997  1.390264  1.299595  1.320461  1.170825  1.256463  1.321078  1.247050  1.212689   \n",
        "2  0.635550  0.621675  0.668410  0.627653  0.625856  0.639784  0.594125  0.638596  0.563780  0.633923   \n",
        "3  0.561838  0.582483  0.604784  0.639694  0.612064  0.593695  0.605464  0.569258  0.605322  0.665788   \n",
        "4  0.650670  0.655353  0.671473  0.638411  0.614336  0.609196  0.658455  0.709729  0.661375  0.595443   \n",
        "5  0.655897  0.670315  0.652939  0.663934  0.699677  0.587052  0.647100  0.669904  0.597044  0.573686   \n",
        "6  0.605551  0.559774  0.656311  0.617817  0.666769  0.577362  0.643648  0.622396  0.681107  0.689736   \n",
        "7  0.601836  0.633743  0.634507  0.635380  0.636882  0.633724  0.666757  0.676464  0.674024  0.639023   \n",
        "8  0.607631  0.639835  0.676559  0.668600  0.660138  0.654388  0.636267  0.659123  0.654003  0.642247   \n",
        "```\n",
        "\n",
        "Hints:\n",
        "\n",
        "- Adding each trial as a column is not necessarily intuitive. For many, it's more straight-forward to think of trials as rows with the each column representing the order of polynomial. The reason we use Trials as the columns is that the `matplotlib` package will plot lines using columns as the series values. It involves some Python gymnastics to plot rows instead of columns--better to handle it now.\n",
        "- You will use your `poly_df` function to generate polynomial feature data\n",
        "- The most straight-forward approach involves iterating over 10 trials and 8 orders of polynomials to assign the MSE values to an numpy array. Then, after you've filled your array, you'll create a DataFrame specifying indices (row labels 1-8) and column headers (Trial numbers)\n",
        "- Assuming you implemented RandomState in `val_set_mse`, here you'll initialize a RandomState object at the beginning of the cell and pass in to `val_set_mse`. In this way, every time you run this cell, you'll get the same sequence of random train/validation set partitions.\n"
      ]
    },
    {
      "cell_type": "code",
      "metadata": {
        "id": "GONYy_mkkyI1",
        "colab": {
          "base_uri": "https://localhost:8080/",
          "height": 321
        },
        "outputId": "5c83c0ca-8fc6-42b4-9884-8db69996ea30"
      },
      "source": [
        "#STEP 7\n",
        "\n",
        "#STUDENT CODE - create DataFrame of Trial and Order data\n",
        "#---------------------------------------------\n",
        "TRIALS = 10\n",
        "MAX_ORDER = 8\n",
        "COLUMNS = ['Trial 1', 'Trial 2', 'Trial 3', 'Trial 4', 'Trial 5', 'Trial 6', 'Trial 7', 'Trial 8', 'Trial 9', 'Trial 10']\n",
        "INDICES = ['1st', '2nd', '3rd', '4th', '5th', '6th', '7th', '8th']\n",
        "\n",
        "random_state = np.random.RandomState(1337)\n",
        "polydf = poly_df(df.x, MAX_ORDER)\n",
        "\n",
        "\n",
        "df_ans = pd.DataFrame(columns =COLUMNS, index = INDICES)\n",
        "#display(df_ans)\n",
        "for trial in range(TRIALS):\n",
        "  test = []\n",
        "  for order in range(1, MAX_ORDER+1):\n",
        "    \n",
        "    #variable_to_assign = val_set_mse(df[['x']], df.y, random_state)\n",
        "    variable_to_assign = val_set_mse(polydf[['x'+str(order)]], df.y, random_state)\n",
        "    #assign MSE values to np.array\n",
        "    test.append(variable_to_assign)\n",
        "    #display(test)\n",
        "  \n",
        "  #append tghe colum to the data frame\n",
        "  df_ans[COLUMNS[trial]]=test\n",
        "    #returns a dataframe of 1-p polynomails of x \n",
        "#display(test)\n",
        "display(df_ans)\n",
        "#---------------------------------------------\n",
        "\n",
        "STEP_7_COMPLETE = True"
      ],
      "execution_count": 110,
      "outputs": [
        {
          "output_type": "display_data",
          "data": {
            "text/html": [
              "<div>\n",
              "<style scoped>\n",
              "    .dataframe tbody tr th:only-of-type {\n",
              "        vertical-align: middle;\n",
              "    }\n",
              "\n",
              "    .dataframe tbody tr th {\n",
              "        vertical-align: top;\n",
              "    }\n",
              "\n",
              "    .dataframe thead th {\n",
              "        text-align: right;\n",
              "    }\n",
              "</style>\n",
              "<table border=\"1\" class=\"dataframe\">\n",
              "  <thead>\n",
              "    <tr style=\"text-align: right;\">\n",
              "      <th></th>\n",
              "      <th>Trial 1</th>\n",
              "      <th>Trial 2</th>\n",
              "      <th>Trial 3</th>\n",
              "      <th>Trial 4</th>\n",
              "      <th>Trial 5</th>\n",
              "      <th>Trial 6</th>\n",
              "      <th>Trial 7</th>\n",
              "      <th>Trial 8</th>\n",
              "      <th>Trial 9</th>\n",
              "      <th>Trial 10</th>\n",
              "    </tr>\n",
              "  </thead>\n",
              "  <tbody>\n",
              "    <tr>\n",
              "      <th>1st</th>\n",
              "      <td>2.517092</td>\n",
              "      <td>2.549974</td>\n",
              "      <td>2.593946</td>\n",
              "      <td>2.809251</td>\n",
              "      <td>2.825436</td>\n",
              "      <td>2.477868</td>\n",
              "      <td>2.408565</td>\n",
              "      <td>2.672833</td>\n",
              "      <td>2.337114</td>\n",
              "      <td>2.735477</td>\n",
              "    </tr>\n",
              "    <tr>\n",
              "      <th>2nd</th>\n",
              "      <td>2.857961</td>\n",
              "      <td>2.787283</td>\n",
              "      <td>3.109270</td>\n",
              "      <td>3.150750</td>\n",
              "      <td>3.029373</td>\n",
              "      <td>3.308633</td>\n",
              "      <td>2.954645</td>\n",
              "      <td>3.182844</td>\n",
              "      <td>2.762447</td>\n",
              "      <td>2.944574</td>\n",
              "    </tr>\n",
              "    <tr>\n",
              "      <th>3rd</th>\n",
              "      <td>2.340477</td>\n",
              "      <td>2.350017</td>\n",
              "      <td>2.422224</td>\n",
              "      <td>2.426810</td>\n",
              "      <td>2.517313</td>\n",
              "      <td>2.351874</td>\n",
              "      <td>2.455709</td>\n",
              "      <td>2.312733</td>\n",
              "      <td>2.458610</td>\n",
              "      <td>2.281052</td>\n",
              "    </tr>\n",
              "    <tr>\n",
              "      <th>4th</th>\n",
              "      <td>3.220860</td>\n",
              "      <td>2.707652</td>\n",
              "      <td>3.108626</td>\n",
              "      <td>3.207264</td>\n",
              "      <td>2.965289</td>\n",
              "      <td>3.488297</td>\n",
              "      <td>2.928088</td>\n",
              "      <td>2.831826</td>\n",
              "      <td>2.913095</td>\n",
              "      <td>3.131350</td>\n",
              "    </tr>\n",
              "    <tr>\n",
              "      <th>5th</th>\n",
              "      <td>2.336606</td>\n",
              "      <td>2.307595</td>\n",
              "      <td>2.199216</td>\n",
              "      <td>2.337664</td>\n",
              "      <td>2.268483</td>\n",
              "      <td>2.129509</td>\n",
              "      <td>2.244262</td>\n",
              "      <td>2.391925</td>\n",
              "      <td>2.489970</td>\n",
              "      <td>2.390808</td>\n",
              "    </tr>\n",
              "    <tr>\n",
              "      <th>6th</th>\n",
              "      <td>2.720182</td>\n",
              "      <td>3.468117</td>\n",
              "      <td>3.122310</td>\n",
              "      <td>2.655889</td>\n",
              "      <td>3.515450</td>\n",
              "      <td>3.585922</td>\n",
              "      <td>2.854124</td>\n",
              "      <td>3.132947</td>\n",
              "      <td>3.367612</td>\n",
              "      <td>2.871574</td>\n",
              "    </tr>\n",
              "    <tr>\n",
              "      <th>7th</th>\n",
              "      <td>2.371566</td>\n",
              "      <td>2.596063</td>\n",
              "      <td>2.340298</td>\n",
              "      <td>2.262313</td>\n",
              "      <td>2.264974</td>\n",
              "      <td>2.507817</td>\n",
              "      <td>2.306718</td>\n",
              "      <td>2.412804</td>\n",
              "      <td>2.361869</td>\n",
              "      <td>2.397914</td>\n",
              "    </tr>\n",
              "    <tr>\n",
              "      <th>8th</th>\n",
              "      <td>3.211804</td>\n",
              "      <td>3.224327</td>\n",
              "      <td>3.393494</td>\n",
              "      <td>3.310728</td>\n",
              "      <td>3.095537</td>\n",
              "      <td>2.990964</td>\n",
              "      <td>3.351510</td>\n",
              "      <td>3.259772</td>\n",
              "      <td>3.379728</td>\n",
              "      <td>2.944861</td>\n",
              "    </tr>\n",
              "  </tbody>\n",
              "</table>\n",
              "</div>"
            ],
            "text/plain": [
              "      Trial 1   Trial 2   Trial 3  ...   Trial 8   Trial 9  Trial 10\n",
              "1st  2.517092  2.549974  2.593946  ...  2.672833  2.337114  2.735477\n",
              "2nd  2.857961  2.787283  3.109270  ...  3.182844  2.762447  2.944574\n",
              "3rd  2.340477  2.350017  2.422224  ...  2.312733  2.458610  2.281052\n",
              "4th  3.220860  2.707652  3.108626  ...  2.831826  2.913095  3.131350\n",
              "5th  2.336606  2.307595  2.199216  ...  2.391925  2.489970  2.390808\n",
              "6th  2.720182  3.468117  3.122310  ...  3.132947  3.367612  2.871574\n",
              "7th  2.371566  2.596063  2.340298  ...  2.412804  2.361869  2.397914\n",
              "8th  3.211804  3.224327  3.393494  ...  3.259772  3.379728  2.944861\n",
              "\n",
              "[8 rows x 10 columns]"
            ]
          },
          "metadata": {
            "tags": []
          }
        }
      ]
    },
    {
      "cell_type": "markdown",
      "metadata": {
        "id": "2Hk42skZkz6O"
      },
      "source": [
        "##### STEP 8: plot val set cv\n",
        "\n",
        "In this step, create a spaghetti plot of each of the 10 trials. Be sure to label your axes.\n",
        "\n",
        "Example of resulting plot:\n",
        "\n",
        "![val set mse spaghetti plot](https://raw.githubusercontent.com/afit-csce623-master/template-hw3/main/images/val_set_spaghetti.png)"
      ]
    },
    {
      "cell_type": "code",
      "metadata": {
        "id": "4Ud1UJSokzCz",
        "colab": {
          "base_uri": "https://localhost:8080/",
          "height": 295
        },
        "outputId": "581724da-8c7c-4f58-a21a-a907a992e100"
      },
      "source": [
        "#STEP 8\n",
        "\n",
        "#STUDENT CODE - plot validation set spaghetti charts\n",
        "#---------------------------------------------\n",
        "#COLUMNS = ['Trial 1', 'Trial 2', 'Trial 3', 'Trial 4', 'Trial 5', 'Trial 6', 'Trial 7', 'Trial 8', 'Trial 9', 'Trial 10']\n",
        "#INDICES = ['1st', '2nd', '3rd', '4th', '5th', '6th', '7th', '8th']\n",
        "\n",
        "palette = plt.get_cmap('Set1')\n",
        "# Plot multiple lines\n",
        "num=0\n",
        "for column in df_ans:\n",
        "    num+=1\n",
        "    #plt.plot(df_ans('x'), df_ans[column], marker='', color=palette(num), linewidth=1, alpha=0.9, label=column)\n",
        "    plt.plot(range(1, MAX_ORDER+1), df_ans[column], marker='', color=palette(num), linewidth=1, alpha=0.9, label=column)\n",
        "\n",
        "# Add legend\n",
        "plt.legend(loc=2, ncol=2)\n",
        " \n",
        "# Add titles\n",
        "plt.title(\"Spaghetti plot\", loc='left', fontsize=12, fontweight=0, color='orange')\n",
        "plt.ylabel(\"MSE of 10 times\")\n",
        "plt.ylabel(\"Model Order\")\n",
        "\n",
        "# Show the graph\n",
        "plt.show()\n",
        "\n",
        "#---------------------------------------------\n",
        "\n",
        "STEP_8_COMPLETE = True"
      ],
      "execution_count": 185,
      "outputs": [
        {
          "output_type": "display_data",
          "data": {
            "image/png": "[encoded data removed]",
            "text/plain": [
              "<Figure size 432x288 with 1 Axes>"
            ]
          },
          "metadata": {
            "tags": [],
            "needs_background": "light"
          }
        }
      ]
    },
    {
      "cell_type": "markdown",
      "metadata": {
        "id": "CMSW4czeIXnX"
      },
      "source": [
        "#### Leave-One-Out Cross-Validation\n"
      ]
    },
    {
      "cell_type": "markdown",
      "metadata": {
        "id": "lFIpRurDxrvK"
      },
      "source": [
        "##### STEP 9: loocv rmse\n",
        "\n",
        "In this step, you'll create loocv_mse(X, y, random_state) which returns the average root mean squared error of models fit to training sets and evaluated on the validation sets as defined by the Leave-One-Out Cross Validation approach.\n",
        "\n",
        "- X is a DataFrame of feature inputs\n",
        "- y is a Series of targets\n",
        "- return a scalar value representing the root mean squared error\n",
        "\n",
        "Hints:\n",
        "- See hints in STEP 6 for guidance here\n",
        "- One caveat to consider... what is the type/shape of the value returned by the `cross_val_score` method in STEP 6? What is it here? Another way to think about this question is how many models are being evaluated in the Validation Set approach (STEP 6)? How many models are being evaluted in LOOVC? If your function is expected to return a single RMSE, what will you do differently, here?\n",
        "- Your code will likely look nearly identical to that in STEP 6. Don't worry about avoiding repeatition... in practice, you will rarely implement more than one method of cross-validation in your research. Therefore, it's reasonable to generate the full workflow here as a possible source for your research later  (apart from reuse of constants from the SETUP B step above)."
      ]
    },
    {
      "cell_type": "code",
      "metadata": {
        "id": "xP_Ecu00OXQK",
        "colab": {
          "base_uri": "https://localhost:8080/",
          "height": 34
        },
        "outputId": "525752f9-af23-49ae-ad01-8761a8a172ce"
      },
      "source": [
        "#STEP 9\n",
        "\n",
        "#STUDENT CODE - create loocv_mse(X, y, random_state)\n",
        "#---------------------------------------------\n",
        "def loocv_mse(X, y, random_state): \n",
        "  model = LinearRegression()\n",
        "  random_state = np.random.RandomState(1337)\n",
        "  split = LeaveOneOut()\n",
        "  scores = cross_val_score(model, X, y, cv=split, scoring = 'neg_root_mean_squared_error') \n",
        "  \n",
        "  return np.mean(abs(scores))\n",
        "\n",
        "\n",
        "display(loocv_mse(df[['x']], df.y,random_state))\n",
        "\n",
        "#---------------------------------------------\n",
        "\n",
        "STEP_9_COMPLETE = True"
      ],
      "execution_count": 212,
      "outputs": [
        {
          "output_type": "display_data",
          "data": {
            "text/plain": [
              "3.6268677834386374"
            ]
          },
          "metadata": {
            "tags": []
          }
        }
      ]
    },
    {
      "cell_type": "markdown",
      "metadata": {
        "id": "KZonhX4oxuTH"
      },
      "source": [
        "##### STEP 10: dataframe of loocv rmse\n",
        "\n",
        "In this step, you'll generate a DataFrame of RMSE values for 1 trial of 8 models using the Leave One Out Cross-Validation approach. As in STEP 7, each model will represent an increasing order polynomial feature set. For example, the first value in the DataFrame for Trial 1 will be the the RMSE for a 1st order $(x^1)$ model, whereas the eighth value will be the MSE for an 8th order $(x^1, x^2, ... , x^8)$ model.\n",
        "\n",
        "Hints:\n",
        "- Unlike STEP 7, you'll have only one column of data representing a single trial of 8 models of polynomials"
      ]
    },
    {
      "cell_type": "code",
      "metadata": {
        "id": "PX4OBFELpgHb",
        "colab": {
          "base_uri": "https://localhost:8080/",
          "height": 321
        },
        "outputId": "9025e233-a972-4d93-cca8-e8314d5b9f53"
      },
      "source": [
        "#STEP 10\n",
        "\n",
        "#STUDENT CODE - create DataFrame of LOOCV Order data\n",
        "#---------------------------------------------\n",
        "\n",
        "TRIALS = 10\n",
        "MAX_ORDER = 8\n",
        "COLUMNS = ['Trial 1', 'Trial 2', 'Trial 3', 'Trial 4', 'Trial 5', 'Trial 6', 'Trial 7', 'Trial 8', 'Trial 9', 'Trial 10']\n",
        "INDICES = ['1st', '2nd', '3rd', '4th', '5th', '6th', '7th', '8th']\n",
        "\n",
        "random_state = np.random.RandomState(1337)\n",
        "polydf = poly_df(df.x, MAX_ORDER)\n",
        "\n",
        "\n",
        "df_ans = pd.DataFrame(columns =COLUMNS, index = INDICES)\n",
        "#display(df_ans)\n",
        "for trial in range(TRIALS):\n",
        "  test = []\n",
        "  for order in range(1, MAX_ORDER+1):\n",
        "    \n",
        "    variable_to_assign = loocv_mse(polydf[['x'+str(order)]], df.y, random_state)\n",
        "    #assign MSE values to np.array\n",
        "    test.append(variable_to_assign)\n",
        "    #display(test)\n",
        "  \n",
        "  #append tghe colum to the data frame\n",
        "  df_ans[COLUMNS[trial]]=test\n",
        "    #returns a dataframe of 1-p polynomails of x \n",
        "#display(test)\n",
        "display(df_ans)\n",
        "\n",
        "\n",
        "#---------------------------------------------\n",
        "\n",
        "STEP_10_COMPLETE = True"
      ],
      "execution_count": 198,
      "outputs": [
        {
          "output_type": "display_data",
          "data": {
            "text/html": [
              "<div>\n",
              "<style scoped>\n",
              "    .dataframe tbody tr th:only-of-type {\n",
              "        vertical-align: middle;\n",
              "    }\n",
              "\n",
              "    .dataframe tbody tr th {\n",
              "        vertical-align: top;\n",
              "    }\n",
              "\n",
              "    .dataframe thead th {\n",
              "        text-align: right;\n",
              "    }\n",
              "</style>\n",
              "<table border=\"1\" class=\"dataframe\">\n",
              "  <thead>\n",
              "    <tr style=\"text-align: right;\">\n",
              "      <th></th>\n",
              "      <th>Trial 1</th>\n",
              "      <th>Trial 2</th>\n",
              "      <th>Trial 3</th>\n",
              "      <th>Trial 4</th>\n",
              "      <th>Trial 5</th>\n",
              "      <th>Trial 6</th>\n",
              "      <th>Trial 7</th>\n",
              "      <th>Trial 8</th>\n",
              "      <th>Trial 9</th>\n",
              "      <th>Trial 10</th>\n",
              "    </tr>\n",
              "  </thead>\n",
              "  <tbody>\n",
              "    <tr>\n",
              "      <th>1st</th>\n",
              "      <td>3.626868</td>\n",
              "      <td>3.626868</td>\n",
              "      <td>3.626868</td>\n",
              "      <td>3.626868</td>\n",
              "      <td>3.626868</td>\n",
              "      <td>3.626868</td>\n",
              "      <td>3.626868</td>\n",
              "      <td>3.626868</td>\n",
              "      <td>3.626868</td>\n",
              "      <td>3.626868</td>\n",
              "    </tr>\n",
              "    <tr>\n",
              "      <th>2nd</th>\n",
              "      <td>5.020235</td>\n",
              "      <td>5.020235</td>\n",
              "      <td>5.020235</td>\n",
              "      <td>5.020235</td>\n",
              "      <td>5.020235</td>\n",
              "      <td>5.020235</td>\n",
              "      <td>5.020235</td>\n",
              "      <td>5.020235</td>\n",
              "      <td>5.020235</td>\n",
              "      <td>5.020235</td>\n",
              "    </tr>\n",
              "    <tr>\n",
              "      <th>3rd</th>\n",
              "      <td>3.129731</td>\n",
              "      <td>3.129731</td>\n",
              "      <td>3.129731</td>\n",
              "      <td>3.129731</td>\n",
              "      <td>3.129731</td>\n",
              "      <td>3.129731</td>\n",
              "      <td>3.129731</td>\n",
              "      <td>3.129731</td>\n",
              "      <td>3.129731</td>\n",
              "      <td>3.129731</td>\n",
              "    </tr>\n",
              "    <tr>\n",
              "      <th>4th</th>\n",
              "      <td>5.033228</td>\n",
              "      <td>5.033228</td>\n",
              "      <td>5.033228</td>\n",
              "      <td>5.033228</td>\n",
              "      <td>5.033228</td>\n",
              "      <td>5.033228</td>\n",
              "      <td>5.033228</td>\n",
              "      <td>5.033228</td>\n",
              "      <td>5.033228</td>\n",
              "      <td>5.033228</td>\n",
              "    </tr>\n",
              "    <tr>\n",
              "      <th>5th</th>\n",
              "      <td>3.310920</td>\n",
              "      <td>3.310920</td>\n",
              "      <td>3.310920</td>\n",
              "      <td>3.310920</td>\n",
              "      <td>3.310920</td>\n",
              "      <td>3.310920</td>\n",
              "      <td>3.310920</td>\n",
              "      <td>3.310920</td>\n",
              "      <td>3.310920</td>\n",
              "      <td>3.310920</td>\n",
              "    </tr>\n",
              "    <tr>\n",
              "      <th>6th</th>\n",
              "      <td>5.050383</td>\n",
              "      <td>5.050383</td>\n",
              "      <td>5.050383</td>\n",
              "      <td>5.050383</td>\n",
              "      <td>5.050383</td>\n",
              "      <td>5.050383</td>\n",
              "      <td>5.050383</td>\n",
              "      <td>5.050383</td>\n",
              "      <td>5.050383</td>\n",
              "      <td>5.050383</td>\n",
              "    </tr>\n",
              "    <tr>\n",
              "      <th>7th</th>\n",
              "      <td>3.575343</td>\n",
              "      <td>3.575343</td>\n",
              "      <td>3.575343</td>\n",
              "      <td>3.575343</td>\n",
              "      <td>3.575343</td>\n",
              "      <td>3.575343</td>\n",
              "      <td>3.575343</td>\n",
              "      <td>3.575343</td>\n",
              "      <td>3.575343</td>\n",
              "      <td>3.575343</td>\n",
              "    </tr>\n",
              "    <tr>\n",
              "      <th>8th</th>\n",
              "      <td>5.062038</td>\n",
              "      <td>5.062038</td>\n",
              "      <td>5.062038</td>\n",
              "      <td>5.062038</td>\n",
              "      <td>5.062038</td>\n",
              "      <td>5.062038</td>\n",
              "      <td>5.062038</td>\n",
              "      <td>5.062038</td>\n",
              "      <td>5.062038</td>\n",
              "      <td>5.062038</td>\n",
              "    </tr>\n",
              "  </tbody>\n",
              "</table>\n",
              "</div>"
            ],
            "text/plain": [
              "      Trial 1   Trial 2   Trial 3  ...   Trial 8   Trial 9  Trial 10\n",
              "1st  3.626868  3.626868  3.626868  ...  3.626868  3.626868  3.626868\n",
              "2nd  5.020235  5.020235  5.020235  ...  5.020235  5.020235  5.020235\n",
              "3rd  3.129731  3.129731  3.129731  ...  3.129731  3.129731  3.129731\n",
              "4th  5.033228  5.033228  5.033228  ...  5.033228  5.033228  5.033228\n",
              "5th  3.310920  3.310920  3.310920  ...  3.310920  3.310920  3.310920\n",
              "6th  5.050383  5.050383  5.050383  ...  5.050383  5.050383  5.050383\n",
              "7th  3.575343  3.575343  3.575343  ...  3.575343  3.575343  3.575343\n",
              "8th  5.062038  5.062038  5.062038  ...  5.062038  5.062038  5.062038\n",
              "\n",
              "[8 rows x 10 columns]"
            ]
          },
          "metadata": {
            "tags": []
          }
        }
      ]
    },
    {
      "cell_type": "markdown",
      "metadata": {
        "id": "N2ieXkh7xxSh"
      },
      "source": [
        "##### STEP 11: plot loocv\n",
        "\n",
        "In this step, create a spaghetti plot of LOOVC for each order polynomial model. Be sure to label your axes.\n",
        "\n",
        "- Your plot might look something like this (specific values will vary):\n",
        "\n",
        "![loocv spaghetti plot](https://raw.githubusercontent.com/afit-csce623-master/template-hw3/main/images/loocv_spaghetti.png)"
      ]
    },
    {
      "cell_type": "code",
      "metadata": {
        "id": "2TthIazms3rL",
        "colab": {
          "base_uri": "https://localhost:8080/",
          "height": 295
        },
        "outputId": "9cfacb0c-14eb-4b58-fc47-5349dc1f9a7a"
      },
      "source": [
        "#STEP 11\n",
        "\n",
        "#STUDENT CODE - plot loocv spaghetti chart\n",
        "#---------------------------------------------\n",
        "palette = plt.get_cmap('Set1')\n",
        "# Plot multiple lines\n",
        "num=0\n",
        "for column in df_ans:\n",
        "    num+=1\n",
        "    #plt.plot(df_ans('x'), df_ans[column], marker='', color=palette(num), linewidth=1, alpha=0.9, label=column)\n",
        "    plt.plot(range(1, MAX_ORDER+1), df_ans[column], marker='', color=palette(num), linewidth=1, alpha=0.9, label=column)\n",
        "\n",
        "# Add legend\n",
        "plt.legend(loc=2, ncol=2)\n",
        " \n",
        "# Add titles\n",
        "plt.title(\"Spaghetti plot\", loc='left', fontsize=12, fontweight=0, color='orange')\n",
        "plt.ylabel(\"MSE of 10 times\")\n",
        "plt.ylabel(\"Model Order\")\n",
        "\n",
        "# Show the graph\n",
        "plt.show()\n",
        "#---------------------------------------------\n",
        "\n",
        "STEP_11_COMPLETE = True"
      ],
      "execution_count": 199,
      "outputs": [
        {
          "output_type": "display_data",
          "data": {
            "image/png": "[encoded data removed]",
            "text/plain": [
              "<Figure size 432x288 with 1 Axes>"
            ]
          },
          "metadata": {
            "tags": [],
            "needs_background": "light"
          }
        }
      ]
    },
    {
      "cell_type": "markdown",
      "metadata": {
        "id": "emh-0CO0Iqm5"
      },
      "source": [
        "#### k-Fold Cross Validation"
      ]
    },
    {
      "cell_type": "markdown",
      "metadata": {
        "id": "VPV2ZssE7ZAs"
      },
      "source": [
        "##### STEP 12: kfold rmse\n",
        "\n",
        "In this step, you'll create kfold_mse(X, y, k, random_state) which returns the average root mean squared error of models fit to training sets and evaluated on the validation sets as defined by the k-fold cross-validation approach.\n",
        "\n",
        "- `X` is a DataFrame of feature inputs\n",
        "- `y` is a Series of targets\n",
        "- `k` is the number of folds \n",
        "- return a scalar value representing the root mean squared error\n",
        "\n",
        "Hints:\n",
        "- See hints in STEP 6 STEP 9 for guidance here\n",
        "- Though `cross_val_score` provides a mechanism to pass an integer via the `cv` argument to implement k-fold CV without a cross-validation iterator, this method does not randomize or shuffle the train and validation sets. As you the next step will require that you run multiple trials, do not use the short provided in `cross_val_score` to use k-fold CV. Instead, select the appropriate cross-validation generator with the appropriate `shuffle` and `random_state` values."
      ]
    },
    {
      "cell_type": "code",
      "metadata": {
        "id": "AlaH-SV4s2SU",
        "colab": {
          "base_uri": "https://localhost:8080/",
          "height": 34
        },
        "outputId": "bc5bbd07-29a3-4c81-d593-cacfc8b988ab"
      },
      "source": [
        "#STEP 12\n",
        "\n",
        "#STUDENT CODE - create kfold_mse(X, y, k, random_state)\n",
        "#---------------------------------------------\n",
        "def kfold_mse(X, y, k, random_state): \n",
        "  model = LinearRegression()\n",
        "  random_state = np.random.RandomState(1337)\n",
        "  split = KFold(n_splits=k, shuffle=True, random_state=random_state)\n",
        "  scores = cross_val_score(model, X, y, cv=split, scoring = 'neg_root_mean_squared_error') \n",
        "  \n",
        "  return abs(np.mean(scores))\n",
        "\n",
        "#this shoudl be exactly the same as LOOC \n",
        "display(kfold_mse(df[['x']], df.y, 200, random_state))\n",
        "#---------------------------------------------\n",
        "\n",
        "STEP_12_COMPLETE = True"
      ],
      "execution_count": 203,
      "outputs": [
        {
          "output_type": "display_data",
          "data": {
            "text/plain": [
              "3.6268677834386374"
            ]
          },
          "metadata": {
            "tags": []
          }
        }
      ]
    },
    {
      "cell_type": "markdown",
      "metadata": {
        "id": "F0uDpcHF7i-_"
      },
      "source": [
        "##### STEP 13: dataframe of kfold rmse\n",
        "\n",
        "In this step, you'll generate a DataFrame of RMSE values for 10 trials of 8 models using the 10-fold cross-validation approach."
      ]
    },
    {
      "cell_type": "code",
      "metadata": {
        "id": "TGwJgcKIxHXK",
        "colab": {
          "base_uri": "https://localhost:8080/",
          "height": 321
        },
        "outputId": "89e2ec52-200f-43e9-d805-cd7d328efaf3"
      },
      "source": [
        "#STEP 13\n",
        "\n",
        "#STUDENT CODE - create DataFrame of LOOCV Order data\n",
        "#---------------------------------------------\n",
        "\n",
        "TRIALS = 10\n",
        "MAX_ORDER = 8\n",
        "COLUMNS = ['Trial 1', 'Trial 2', 'Trial 3', 'Trial 4', 'Trial 5', 'Trial 6', 'Trial 7', 'Trial 8', 'Trial 9', 'Trial 10']\n",
        "INDICES = ['1st', '2nd', '3rd', '4th', '5th', '6th', '7th', '8th']\n",
        "\n",
        "random_state = np.random.RandomState(1337)\n",
        "polydf = poly_df(df.x, MAX_ORDER)\n",
        "\n",
        "\n",
        "df_ans = pd.DataFrame(columns =COLUMNS, index = INDICES)\n",
        "#display(df_ans)\n",
        "for trial in range(TRIALS):\n",
        "  test = []\n",
        "  for order in range(1, MAX_ORDER+1):\n",
        "    \n",
        "    variable_to_assign = kfold_mse(polydf[['x'+str(order)]], df.y, 10, random_state)\n",
        "    #assign MSE values to np.array\n",
        "    test.append(variable_to_assign)\n",
        "    #display(test)\n",
        "  \n",
        "  #append tghe colum to the data frame\n",
        "  df_ans[COLUMNS[trial]]=test\n",
        "    #returns a dataframe of 1-p polynomails of x \n",
        "#display(test)\n",
        "display(df_ans)\n",
        "\n",
        "#---------------------------------------------\n",
        "\n",
        "STEP_13_COMPLETE = True"
      ],
      "execution_count": 204,
      "outputs": [
        {
          "output_type": "display_data",
          "data": {
            "text/html": [
              "<div>\n",
              "<style scoped>\n",
              "    .dataframe tbody tr th:only-of-type {\n",
              "        vertical-align: middle;\n",
              "    }\n",
              "\n",
              "    .dataframe tbody tr th {\n",
              "        vertical-align: top;\n",
              "    }\n",
              "\n",
              "    .dataframe thead th {\n",
              "        text-align: right;\n",
              "    }\n",
              "</style>\n",
              "<table border=\"1\" class=\"dataframe\">\n",
              "  <thead>\n",
              "    <tr style=\"text-align: right;\">\n",
              "      <th></th>\n",
              "      <th>Trial 1</th>\n",
              "      <th>Trial 2</th>\n",
              "      <th>Trial 3</th>\n",
              "      <th>Trial 4</th>\n",
              "      <th>Trial 5</th>\n",
              "      <th>Trial 6</th>\n",
              "      <th>Trial 7</th>\n",
              "      <th>Trial 8</th>\n",
              "      <th>Trial 9</th>\n",
              "      <th>Trial 10</th>\n",
              "    </tr>\n",
              "  </thead>\n",
              "  <tbody>\n",
              "    <tr>\n",
              "      <th>1st</th>\n",
              "      <td>4.393738</td>\n",
              "      <td>4.393738</td>\n",
              "      <td>4.393738</td>\n",
              "      <td>4.393738</td>\n",
              "      <td>4.393738</td>\n",
              "      <td>4.393738</td>\n",
              "      <td>4.393738</td>\n",
              "      <td>4.393738</td>\n",
              "      <td>4.393738</td>\n",
              "      <td>4.393738</td>\n",
              "    </tr>\n",
              "    <tr>\n",
              "      <th>2nd</th>\n",
              "      <td>6.480521</td>\n",
              "      <td>6.480521</td>\n",
              "      <td>6.480521</td>\n",
              "      <td>6.480521</td>\n",
              "      <td>6.480521</td>\n",
              "      <td>6.480521</td>\n",
              "      <td>6.480521</td>\n",
              "      <td>6.480521</td>\n",
              "      <td>6.480521</td>\n",
              "      <td>6.480521</td>\n",
              "    </tr>\n",
              "    <tr>\n",
              "      <th>3rd</th>\n",
              "      <td>3.887059</td>\n",
              "      <td>3.887059</td>\n",
              "      <td>3.887059</td>\n",
              "      <td>3.887059</td>\n",
              "      <td>3.887059</td>\n",
              "      <td>3.887059</td>\n",
              "      <td>3.887059</td>\n",
              "      <td>3.887059</td>\n",
              "      <td>3.887059</td>\n",
              "      <td>3.887059</td>\n",
              "    </tr>\n",
              "    <tr>\n",
              "      <th>4th</th>\n",
              "      <td>6.510385</td>\n",
              "      <td>6.510385</td>\n",
              "      <td>6.510385</td>\n",
              "      <td>6.510385</td>\n",
              "      <td>6.510385</td>\n",
              "      <td>6.510385</td>\n",
              "      <td>6.510385</td>\n",
              "      <td>6.510385</td>\n",
              "      <td>6.510385</td>\n",
              "      <td>6.510385</td>\n",
              "    </tr>\n",
              "    <tr>\n",
              "      <th>5th</th>\n",
              "      <td>4.146750</td>\n",
              "      <td>4.146750</td>\n",
              "      <td>4.146750</td>\n",
              "      <td>4.146750</td>\n",
              "      <td>4.146750</td>\n",
              "      <td>4.146750</td>\n",
              "      <td>4.146750</td>\n",
              "      <td>4.146750</td>\n",
              "      <td>4.146750</td>\n",
              "      <td>4.146750</td>\n",
              "    </tr>\n",
              "    <tr>\n",
              "      <th>6th</th>\n",
              "      <td>6.544476</td>\n",
              "      <td>6.544476</td>\n",
              "      <td>6.544476</td>\n",
              "      <td>6.544476</td>\n",
              "      <td>6.544476</td>\n",
              "      <td>6.544476</td>\n",
              "      <td>6.544476</td>\n",
              "      <td>6.544476</td>\n",
              "      <td>6.544476</td>\n",
              "      <td>6.544476</td>\n",
              "    </tr>\n",
              "    <tr>\n",
              "      <th>7th</th>\n",
              "      <td>4.455213</td>\n",
              "      <td>4.455213</td>\n",
              "      <td>4.455213</td>\n",
              "      <td>4.455213</td>\n",
              "      <td>4.455213</td>\n",
              "      <td>4.455213</td>\n",
              "      <td>4.455213</td>\n",
              "      <td>4.455213</td>\n",
              "      <td>4.455213</td>\n",
              "      <td>4.455213</td>\n",
              "    </tr>\n",
              "    <tr>\n",
              "      <th>8th</th>\n",
              "      <td>6.572364</td>\n",
              "      <td>6.572364</td>\n",
              "      <td>6.572364</td>\n",
              "      <td>6.572364</td>\n",
              "      <td>6.572364</td>\n",
              "      <td>6.572364</td>\n",
              "      <td>6.572364</td>\n",
              "      <td>6.572364</td>\n",
              "      <td>6.572364</td>\n",
              "      <td>6.572364</td>\n",
              "    </tr>\n",
              "  </tbody>\n",
              "</table>\n",
              "</div>"
            ],
            "text/plain": [
              "      Trial 1   Trial 2   Trial 3  ...   Trial 8   Trial 9  Trial 10\n",
              "1st  4.393738  4.393738  4.393738  ...  4.393738  4.393738  4.393738\n",
              "2nd  6.480521  6.480521  6.480521  ...  6.480521  6.480521  6.480521\n",
              "3rd  3.887059  3.887059  3.887059  ...  3.887059  3.887059  3.887059\n",
              "4th  6.510385  6.510385  6.510385  ...  6.510385  6.510385  6.510385\n",
              "5th  4.146750  4.146750  4.146750  ...  4.146750  4.146750  4.146750\n",
              "6th  6.544476  6.544476  6.544476  ...  6.544476  6.544476  6.544476\n",
              "7th  4.455213  4.455213  4.455213  ...  4.455213  4.455213  4.455213\n",
              "8th  6.572364  6.572364  6.572364  ...  6.572364  6.572364  6.572364\n",
              "\n",
              "[8 rows x 10 columns]"
            ]
          },
          "metadata": {
            "tags": []
          }
        }
      ]
    },
    {
      "cell_type": "markdown",
      "metadata": {
        "id": "cjMRS9oJ7o_Y"
      },
      "source": [
        "##### STEP 14: plot kfold rmse\n",
        "\n",
        "In this step, create a spaghetti plot of the k-fold trials. Be sure to label your axes.\n",
        "\n",
        "- Your plot might look something like this (specific values will vary):\n",
        "\n",
        "![kfold spaghetti plot](https://raw.githubusercontent.com/afit-csce623-master/template-hw3/main/images/kfold_spaghetti.png)"
      ]
    },
    {
      "cell_type": "code",
      "metadata": {
        "id": "ZF7lkpxrxBxf",
        "colab": {
          "base_uri": "https://localhost:8080/",
          "height": 295
        },
        "outputId": "645fb60e-2ff8-4937-8f38-c7c8eba922f1"
      },
      "source": [
        "#STEP 14\n",
        "\n",
        "#STUDENT CODE - plot k-fold spaghetti charts\n",
        "#---------------------------------------------\n",
        "palette = plt.get_cmap('Set1')\n",
        "# Plot multiple lines\n",
        "num=0\n",
        "for column in df_ans:\n",
        "    num+=1\n",
        "    #plt.plot(df_ans('x'), df_ans[column], marker='', color=palette(num), linewidth=1, alpha=0.9, label=column)\n",
        "    plt.plot(range(1, MAX_ORDER+1), df_ans[column], marker='', color=palette(num), linewidth=1, alpha=0.9, label=column)\n",
        "\n",
        "# Add legend\n",
        "plt.legend(loc=2, ncol=2)\n",
        " \n",
        "# Add titles\n",
        "plt.title(\"Spaghetti plot of k-fold\", loc='left', fontsize=12, fontweight=0, color='orange')\n",
        "plt.ylabel(\"MSE of 10 times\")\n",
        "plt.ylabel(\"Model Order\")\n",
        "\n",
        "# Show the graph\n",
        "plt.show()\n",
        "#---------------------------------------------\n",
        "\n",
        "STEP_14_COMPLETE = False"
      ],
      "execution_count": 206,
      "outputs": [
        {
          "output_type": "display_data",
          "data": {
            "image/png": "[encoded data removed]",
            "text/plain": [
              "<Figure size 432x288 with 1 Axes>"
            ]
          },
          "metadata": {
            "tags": [],
            "needs_background": "light"
          }
        }
      ]
    },
    {
      "cell_type": "markdown",
      "metadata": {
        "id": "rcadU5rtBQty"
      },
      "source": [
        "#### Discussion"
      ]
    },
    {
      "cell_type": "markdown",
      "metadata": {
        "id": "5eeVWo-DBTzA"
      },
      "source": [
        "##### STEP 15: analysis\n",
        "\n",
        "Review the spaghetti charts created in STEPS 8, 11, and 14, then answer the following questions.\n",
        "\n",
        "- For both the Validation Set and for k-fold approaches we conducted 10 trials, and there was variation between them. What would have occurred had we conducted 10 trials of LOOCV?\n",
        "\n",
        "  <font color=green class=\"student_answer\">Student Discussion</font>\n",
        "\n",
        "\n",
        "- Which cross-validation approach has the greatest variation from one trial to the next? Why?\n",
        "\n",
        "  <font color=green class=\"student_answer\">Student Discussion</font>\n",
        "\n",
        "- Which cross-validation approach has the least variation from one trial to the next? Why?\n",
        "\n",
        "  <font color=green class=\"student_answer\">Student Discussion</font>\n",
        "\n",
        "- Suppose you had observations whose targets (y-values) range from $[0-10]$. When you conduct cross-validation, you note that the model of polynomial order $p$ yields an RMSE of 0.0800, but the model of polynomial order $p+4$ yields an RMSE of 0.0792. In terms of $p$, which model will you use and why?\n",
        "\n",
        "  <font color=green class=\"student_answer\">Student Discussion</font>\n",
        "\n",
        "- Which CV approach do you think will be most appropriate for your machine learning research? Why?\n",
        "\n",
        "  <font color=green class=\"student_answer\">Student Discussion</font>\n",
        "\n"
      ]
    },
    {
      "cell_type": "code",
      "metadata": {
        "id": "wlFt5LcDiR3s"
      },
      "source": [
        "STEP_15_COMPLETE = False"
      ],
      "execution_count": 89,
      "outputs": []
    },
    {
      "cell_type": "markdown",
      "metadata": {
        "id": "4vITNJhSEbQg"
      },
      "source": [
        "##### STEP 16: model selection\n",
        "\n",
        "Based on your analysis of cross-validation, which order polynomial model will you choose? Why?\n",
        "\n",
        "  <font color=green class=\"student_answer\">Student Discussion</font>\n"
      ]
    },
    {
      "cell_type": "code",
      "metadata": {
        "id": "G1MKk23PiUdk"
      },
      "source": [
        "STEP_16_COMPLETE = False"
      ],
      "execution_count": 90,
      "outputs": []
    },
    {
      "cell_type": "markdown",
      "metadata": {
        "id": "rcYHRbbiE7bm"
      },
      "source": [
        "#### Model Creation & Evaluation"
      ]
    },
    {
      "cell_type": "markdown",
      "metadata": {
        "id": "TppVvahYE-i5"
      },
      "source": [
        "##### STEP 17: Model Creation\n",
        "\n",
        "In this step, you will generate a model of the polynomial order you identified in STEP 16 (using your `poly_df` function). Then, you will fit that model to your data.\n",
        "\n",
        "Finally, you'll plot your model, along with the original data and your initial guess. Be sure to label your plot. Here is an example of a possible result:\n",
        "\n",
        "![fit model plot](https://raw.githubusercontent.com/afit-csce623-master/template-hw3/main/images/plot_fit_overlay2.png)"
      ]
    },
    {
      "cell_type": "code",
      "metadata": {
        "id": "ivtDGgQlFBop",
        "colab": {
          "base_uri": "https://localhost:8080/",
          "height": 333
        },
        "outputId": "7c83dfb9-d938-45fb-a9bd-6ea6d96f2007"
      },
      "source": [
        "#STEP 17\n",
        "\n",
        "#STUDENT CODE - fit model, plot initial guess and best fit line\n",
        "#---------------------------------------------\n",
        "guessbetas = [0,-1,-2]\n",
        "display(create_model_string(0,guessbetas))\n",
        "\n",
        "#use some function (python? sklearn?) to fit a 3rd order polynomial to data\n",
        "#store resulting betas in calcbetas\n",
        "calcbetas = [1,-2,-3]\n",
        "display(create_model_string(0,calcbetas))\n",
        "\n",
        "\n",
        "plot_function(-1.5,1.8,-20,guessbetas, style='red')\n",
        "plot_function(-1.5,1.8,-20,calcbetas, style='green')\n",
        "plotDF(df)\n",
        "\n",
        "#---------------------------------------------\n",
        "\n",
        "STEP_17_COMPLETE = True"
      ],
      "execution_count": 210,
      "outputs": [
        {
          "output_type": "display_data",
          "data": {
            "application/vnd.google.colaboratory.intrinsic+json": {
              "type": "string"
            },
            "text/plain": [
              "'$f(x) = 0.00 + 0.00x^1 + -1.00x^2 + -2.00x^3$'"
            ]
          },
          "metadata": {
            "tags": []
          }
        },
        {
          "output_type": "display_data",
          "data": {
            "application/vnd.google.colaboratory.intrinsic+json": {
              "type": "string"
            },
            "text/plain": [
              "'$f(x) = 0.00 + 1.00x^1 + -2.00x^2 + -3.00x^3$'"
            ]
          },
          "metadata": {
            "tags": []
          }
        },
        {
          "output_type": "display_data",
          "data": {
            "image/png": "[encoded data removed]",
            "text/plain": [
              "<Figure size 432x288 with 1 Axes>"
            ]
          },
          "metadata": {
            "tags": [],
            "needs_background": "light"
          }
        }
      ]
    },
    {
      "cell_type": "markdown",
      "metadata": {
        "id": "9gyQOP6uPhqO"
      },
      "source": [
        "##### STEP 18: Model Evaluation\n",
        "\n",
        "In this step, you will generate test data and evaluate the performance of your fitted model on that test data.\n",
        "\n",
        "Hints:\n",
        "- To generate test data, you will use the `generate_data()` function. It is critical you reuse the seed value that you used in STEP 2. Using a different seed value will result in you creating test data generated from a different data signal, and your model will inevitably perform disastrously. Also, you will need to set the optional argument `test_data` to `True`:\n",
        "\n",
        "  `df_test = generate_data(seed, test_data=True)`\n",
        "\n",
        "  You should use the actual value of `seed` unless you are ABSOLUTELY sure that you have not modified it somewhere in the notebook\n",
        "\n",
        "- After you have generated the data, be sure that you engineer a feature set of the appropriate polynomial order.\n",
        "\n",
        "- Page 80 of _HOML_ provides an example of how you can calculate the RMSE of your model on test data. Note that the text calculates the square root of the mean squared error. If you take a look at the [mean_squared_error](https://scikit-learn.org/stable/modules/generated/sklearn.metrics.mean_squared_error.html) function, you'll see that you can set an argument to return the RMSE, without a need to take a square root of the result.\n",
        "\n",
        "- Note that the instructor solution for this step involves approximately 5 steps. If you are using significantly more than that, you may not be effectively using the functions you've created or the scikit-learn tools."
      ]
    },
    {
      "cell_type": "code",
      "metadata": {
        "id": "vMS5haVjWHMF"
      },
      "source": [
        "#STEP 18\n",
        "\n",
        "#STUDENT CODE - generate test data, calculate rmse on test data\n",
        "#---------------------------------------------\n",
        "\n",
        "#---------------------------------------------\n",
        "\n",
        "STEP_18_COMPLETE = False"
      ],
      "execution_count": 92,
      "outputs": []
    },
    {
      "cell_type": "markdown",
      "metadata": {
        "id": "lXQiXKD8jjsi"
      },
      "source": [
        "#### STEP 19: final model discussion\n",
        "\n",
        "Answer the following questions\n",
        "\n",
        "- What is your model's performance on test data?\n",
        "\n",
        "  <font color=green class=\"student_answer\">Student Discussion</font>\n",
        "\n",
        "\n",
        "- How does this compare to the cross-validation error that you used to determine the polynomial order for your model?\n",
        "\n",
        "  <font color=green class=\"student_answer\">Student Discussion</font>\n",
        "\n",
        "- What accounts for the difference between the cross-validation error and the error on the test data?\n",
        "\n",
        "  <font color=green class=\"student_answer\">Student Discussion</font>\n",
        "\n",
        "- What is the most appropriate metric to use when advertising the performance of your model?\n",
        "\n",
        "  <font color=green class=\"student_answer\">Student Discussion</font>\n",
        "\n"
      ]
    },
    {
      "cell_type": "code",
      "metadata": {
        "id": "5o2lfeA6kVYn"
      },
      "source": [
        "STEP_19_COMPLETE = False"
      ],
      "execution_count": 93,
      "outputs": []
    },
    {
      "cell_type": "code",
      "metadata": {
        "id": "gCsY--TI02Jw"
      },
      "source": [
        "# Enter the number of hours you spend on this homework assignment as a floating point value\n",
        "\n",
        "hours_spent = 0.0\n",
        "\n",
        "STEP_20_COMPLETE = False"
      ],
      "execution_count": 94,
      "outputs": []
    }
  ]
}